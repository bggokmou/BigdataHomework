{
  "nbformat": 4,
  "nbformat_minor": 0,
  "metadata": {
    "colab": {
      "provenance": [],
      "authorship_tag": "ABX9TyNiEHONpdEp3Ax+yZIkY8EP",
      "include_colab_link": true
    },
    "kernelspec": {
      "name": "python3",
      "display_name": "Python 3"
    },
    "language_info": {
      "name": "python"
    }
  },
  "cells": [
    {
      "cell_type": "markdown",
      "metadata": {
        "id": "view-in-github",
        "colab_type": "text"
      },
      "source": [
        "<a href=\"https://colab.research.google.com/github/bggokmou/BigdataHomework/blob/master/4%EC%A3%BC%EC%B0%A8_%EA%B3%BC%EC%A0%9C1.ipynb\" target=\"_parent\"><img src=\"https://colab.research.google.com/assets/colab-badge.svg\" alt=\"Open In Colab\"/></a>"
      ]
    },
    {
      "cell_type": "markdown",
      "source": [
        "구구단의 1 단 부터 9 단 까지를 모두 출력하도록 앞의 프로그램을 수정해 보세요"
      ],
      "metadata": {
        "id": "mXRUad0up-uZ"
      }
    },
    {
      "cell_type": "code",
      "execution_count": null,
      "metadata": {
        "colab": {
          "base_uri": "https://localhost:8080/"
        },
        "id": "Eg6WxzF6pvgq",
        "outputId": "eb494c6b-cb72-4e3f-8a02-bebef7714221"
      },
      "outputs": [
        {
          "output_type": "stream",
          "name": "stdout",
          "text": [
            "원하는 구구단은: 3\n",
            "3*1=3\n",
            "3*2=6\n",
            "3*3=9\n",
            "3*4=12\n",
            "3*5=15\n",
            "3*6=18\n",
            "3*7=21\n",
            "3*8=24\n",
            "3*9=27\n"
          ]
        }
      ],
      "source": [
        "dan = int(input(\"원하는 구구단은: \"))\n",
        "i = 1\n",
        "\n",
        "while i <=9:\n",
        "  print(\"%s*%s=%s\" % (dan, i, dan*i))\n",
        "  i = i+1\n"
      ]
    },
    {
      "cell_type": "code",
      "source": [
        "def print_gugudan(dan):\n",
        "    for i in range(1, 10):\n",
        "        print(\"%d*%d=%d\" % (dan, i, dan*i))\n",
        "\n",
        "def print_all_gugudan():\n",
        "    for dan in range(1, 10):\n",
        "        print_gugudan(dan)\n",
        "        print()  # 단 사이에 빈 줄을 출력\n",
        "\n",
        "while True:\n",
        "    response = input(\"전체 구구단을 출력하시겠습니까? (예/아니오): \")\n",
        "\n",
        "    if response == \"예\":\n",
        "        print_all_gugudan()\n",
        "        break\n",
        "    elif response == \"아니오\":\n",
        "        dan = int(input(\"원하는 구구단은: \"))\n",
        "        print_gugudan(dan)\n",
        "        break\n",
        "    else:\n",
        "        print(\"유효하지 않은 입력입니다. '예' 혹은 '아니오'로 답해주세요.\")\n"
      ],
      "metadata": {
        "colab": {
          "base_uri": "https://localhost:8080/"
        },
        "id": "ejI2HhaasVeQ",
        "outputId": "4951d1be-dfdd-4430-f20f-2f09eafa36bd"
      },
      "execution_count": 4,
      "outputs": [
        {
          "output_type": "stream",
          "name": "stdout",
          "text": [
            "전체 구구단을 출력하시겠습니까? (예/아니오): 노\n",
            "유효하지 않은 입력입니다. '예' 혹은 '아니오'로 답해주세요.\n",
            "전체 구구단을 출력하시겠습니까? (예/아니오): 노노\n",
            "유효하지 않은 입력입니다. '예' 혹은 '아니오'로 답해주세요.\n",
            "전체 구구단을 출력하시겠습니까? (예/아니오): 예\n",
            "1*1=1\n",
            "1*2=2\n",
            "1*3=3\n",
            "1*4=4\n",
            "1*5=5\n",
            "1*6=6\n",
            "1*7=7\n",
            "1*8=8\n",
            "1*9=9\n",
            "\n",
            "2*1=2\n",
            "2*2=4\n",
            "2*3=6\n",
            "2*4=8\n",
            "2*5=10\n",
            "2*6=12\n",
            "2*7=14\n",
            "2*8=16\n",
            "2*9=18\n",
            "\n",
            "3*1=3\n",
            "3*2=6\n",
            "3*3=9\n",
            "3*4=12\n",
            "3*5=15\n",
            "3*6=18\n",
            "3*7=21\n",
            "3*8=24\n",
            "3*9=27\n",
            "\n",
            "4*1=4\n",
            "4*2=8\n",
            "4*3=12\n",
            "4*4=16\n",
            "4*5=20\n",
            "4*6=24\n",
            "4*7=28\n",
            "4*8=32\n",
            "4*9=36\n",
            "\n",
            "5*1=5\n",
            "5*2=10\n",
            "5*3=15\n",
            "5*4=20\n",
            "5*5=25\n",
            "5*6=30\n",
            "5*7=35\n",
            "5*8=40\n",
            "5*9=45\n",
            "\n",
            "6*1=6\n",
            "6*2=12\n",
            "6*3=18\n",
            "6*4=24\n",
            "6*5=30\n",
            "6*6=36\n",
            "6*7=42\n",
            "6*8=48\n",
            "6*9=54\n",
            "\n",
            "7*1=7\n",
            "7*2=14\n",
            "7*3=21\n",
            "7*4=28\n",
            "7*5=35\n",
            "7*6=42\n",
            "7*7=49\n",
            "7*8=56\n",
            "7*9=63\n",
            "\n",
            "8*1=8\n",
            "8*2=16\n",
            "8*3=24\n",
            "8*4=32\n",
            "8*5=40\n",
            "8*6=48\n",
            "8*7=56\n",
            "8*8=64\n",
            "8*9=72\n",
            "\n",
            "9*1=9\n",
            "9*2=18\n",
            "9*3=27\n",
            "9*4=36\n",
            "9*5=45\n",
            "9*6=54\n",
            "9*7=63\n",
            "9*8=72\n",
            "9*9=81\n",
            "\n"
          ]
        }
      ]
    }
  ]
}