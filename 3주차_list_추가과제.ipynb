{
  "nbformat": 4,
  "nbformat_minor": 0,
  "metadata": {
    "colab": {
      "provenance": [],
      "authorship_tag": "ABX9TyN/XNt/XU5d5/yNTGpf4t1C",
      "include_colab_link": true
    },
    "kernelspec": {
      "name": "python3",
      "display_name": "Python 3"
    },
    "language_info": {
      "name": "python"
    }
  },
  "cells": [
    {
      "cell_type": "markdown",
      "metadata": {
        "id": "view-in-github",
        "colab_type": "text"
      },
      "source": [
        "<a href=\"https://colab.research.google.com/github/bggokmou/BigdataHomework/blob/master/3%EC%A3%BC%EC%B0%A8_list_%EC%B6%94%EA%B0%80%EA%B3%BC%EC%A0%9C.ipynb\" target=\"_parent\"><img src=\"https://colab.research.google.com/assets/colab-badge.svg\" alt=\"Open In Colab\"/></a>"
      ]
    },
    {
      "cell_type": "markdown",
      "source": [
        "s_list = ['abc', 'bcd', 'bcdefg', 'abba', 'cddc', 'opq']\n",
        "와 같은 문자열을 가진 리스트가 존재한다 .\n",
        "이 리스트에 대하여 다음과 같은 기능을 구현하여라\n",
        "1) min() 함수나 sort() 메소드를 사용하지 말고 , s_list 내의 문자열 항목중에서 가장 길이가 짧은 문자열을 출력하여라 길이가 가장 짧은 문자열이 여러개 있을 경우 아래 출력과 같이 제일 먼저 나타나는 문자열을 출력하여라\n",
        "---\n",
        "실행 결과\n",
        "```\n",
        "가장\n",
        "길이가 짧은 문자열 : abc\n",
        "```"
      ],
      "metadata": {
        "id": "KGPnhfGc79Or"
      }
    },
    {
      "cell_type": "code",
      "execution_count": 3,
      "metadata": {
        "colab": {
          "base_uri": "https://localhost:8080/"
        },
        "id": "WbNF5L8v7rPF",
        "outputId": "f7873dd8-6433-436b-81ed-982ebf20971a"
      },
      "outputs": [
        {
          "output_type": "stream",
          "name": "stdout",
          "text": [
            "['abc', 'bcd', 'bcdefg', 'abba', 'cddc', 'opq']\n",
            "가장 길이가 짧은 문자열 : abc\n"
          ]
        }
      ],
      "source": [
        "s_list = ['abc', 'bcd', 'bcdefg', 'abba', 'cddc', 'opq']\n",
        "min_len = len(s_list[0]);\n",
        "min_s = s_list[0]\n",
        "print(s_list)\n",
        "for s in s_list:\n",
        "  l = len(s)\n",
        "  if min_len > l:\n",
        "    min_len = l\n",
        "    min_s = s\n",
        "print('가장 길이가 짧은 문자열 :', min_s)"
      ]
    },
    {
      "cell_type": "markdown",
      "source": [
        "2) 1) 번 문제에서 'abc', 'bcd', ' 의 세 문자열의 길이가 3 으로 모두 같다 . 이와 같이 문자열의 길이가 같을 경우 다음과 같이 가장 길이가 짧은 문자열 3 개를 모두 출력하는 프로그램을 작성하여라. sort(key=len) 함수를 사용하여 길이에 따라 정렬한 후 코드를 작성하여라.\n",
        "---\n",
        "실행 결과\n",
        "```\n",
        "가장 길이가 짧은 문자열 : 'abc', 'bcd', 'opq'\n",
        "```\n"
      ],
      "metadata": {
        "id": "Hd99mFz08o0T"
      }
    },
    {
      "cell_type": "code",
      "source": [
        "s_list = ['abc', 'bcd', 'bcdefg', 'abba', 'cddc', 'opq']\n",
        "s_list.sort(key=len)\n",
        "group_list = []\n",
        "min_len = len(s_list[0])\n",
        "print(s_list)\n",
        "for s in s_list:\n",
        "  if min_len == len(s):\n",
        "    group_list.append(s)\n",
        "print(\"가장 길이가 짧은 문자열 : '{}', '{}'', '{}'\".format(group_list[0],group_list[1],group_list[2]))"
      ],
      "metadata": {
        "colab": {
          "base_uri": "https://localhost:8080/"
        },
        "id": "5zooWjif80UJ",
        "outputId": "6b8293cd-e5f6-4ee7-9c55-df1e42355f7c"
      },
      "execution_count": 2,
      "outputs": [
        {
          "output_type": "stream",
          "name": "stdout",
          "text": [
            "['abc', 'bcd', 'opq', 'abba', 'cddc', 'bcdefg']\n",
            "가장 길이가 짧은 문자열 : 'abc', 'bcd'', 'opq'\n"
          ]
        }
      ]
    }
  ]
}