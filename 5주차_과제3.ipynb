{
  "nbformat": 4,
  "nbformat_minor": 0,
  "metadata": {
    "colab": {
      "provenance": [],
      "authorship_tag": "ABX9TyMSgeh++aE71ttLLrvDEHon",
      "include_colab_link": true
    },
    "kernelspec": {
      "name": "python3",
      "display_name": "Python 3"
    },
    "language_info": {
      "name": "python"
    }
  },
  "cells": [
    {
      "cell_type": "markdown",
      "metadata": {
        "id": "view-in-github",
        "colab_type": "text"
      },
      "source": [
        "<a href=\"https://colab.research.google.com/github/bggokmou/BigdataHomework/blob/master/5%EC%A3%BC%EC%B0%A8_%EA%B3%BC%EC%A0%9C3.ipynb\" target=\"_parent\"><img src=\"https://colab.research.google.com/assets/colab-badge.svg\" alt=\"Open In Colab\"/></a>"
      ]
    },
    {
      "cell_type": "markdown",
      "source": [
        "# numpy 활용하기 : reshape() method\n",
        "\n",
        "import numpy as np\n",
        "\n",
        "temp = np.arange(48)\n",
        "로 만든 1 차원 배열 temp 를\n",
        "\n",
        "1. reshape method\n",
        "활용하여 세번째 과제 에서 만든 임의의 3 차원 배열 (4, 3, 4), 2 차원\n",
        "배열 (6,8) 을 만들어 보세요\n",
        "\n",
        "2. github에 풀이 과정을 올리세요 학습사이트 과제제출에는 github url 만\n",
        "올리세요."
      ],
      "metadata": {
        "id": "catfBgBKGxkf"
      }
    },
    {
      "cell_type": "code",
      "execution_count": 8,
      "metadata": {
        "colab": {
          "base_uri": "https://localhost:8080/"
        },
        "id": "yF2stqjcGsqX",
        "outputId": "571440a8-446f-481f-ef44-9e1501e036dd"
      },
      "outputs": [
        {
          "output_type": "stream",
          "name": "stdout",
          "text": [
            "[[[33  0 19 40]\n",
            "  [25 30  4 12]\n",
            "  [37 46 44 28]]\n",
            "\n",
            " [[ 3 15 18 36]\n",
            "  [23  6 42 41]\n",
            "  [16  5 22 32]]\n",
            "\n",
            " [[11  9 10 34]\n",
            "  [47 43 27 17]\n",
            "  [14 29  2 24]]\n",
            "\n",
            " [[20 31 13 35]\n",
            "  [ 7 38 45 39]\n",
            "  [26  1 21  8]]]\n"
          ]
        }
      ],
      "source": [
        "import numpy as np\n",
        "\n",
        "temp = np.arange(48)\n",
        "np.random.shuffle(temp)\n",
        "reshaped_temp = temp.reshape(4, 3, 4)\n",
        "\n",
        "print(reshaped_temp)"
      ]
    },
    {
      "cell_type": "code",
      "source": [
        "import numpy as np\n",
        "\n",
        "temp = np.arange(48)\n",
        "np.random.shuffle(temp)\n",
        "reshaped_temp = temp.reshape(6, 8)\n",
        "\n",
        "print(reshaped_temp)"
      ],
      "metadata": {
        "colab": {
          "base_uri": "https://localhost:8080/"
        },
        "id": "-s-eo1LvJghO",
        "outputId": "d7bf2fba-ea14-40b4-96ac-559348971084"
      },
      "execution_count": 9,
      "outputs": [
        {
          "output_type": "stream",
          "name": "stdout",
          "text": [
            "[[25  3 30 27 20 31 15  9]\n",
            " [34  5 21 24  4 37 11 16]\n",
            " [18 40 17  7 10 28  0 46]\n",
            " [22 41 32  8 14 36 42 47]\n",
            " [43 23 44 29 35 13  1 45]\n",
            " [38  6 19 12 26  2 33 39]]\n"
          ]
        }
      ]
    }
  ]
}