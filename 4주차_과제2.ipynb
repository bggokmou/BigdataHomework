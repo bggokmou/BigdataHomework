{
  "nbformat": 4,
  "nbformat_minor": 0,
  "metadata": {
    "colab": {
      "provenance": [],
      "authorship_tag": "ABX9TyOKm+bsM3bMY68iB7XUp8jO",
      "include_colab_link": true
    },
    "kernelspec": {
      "name": "python3",
      "display_name": "Python 3"
    },
    "language_info": {
      "name": "python"
    }
  },
  "cells": [
    {
      "cell_type": "markdown",
      "metadata": {
        "id": "view-in-github",
        "colab_type": "text"
      },
      "source": [
        "<a href=\"https://colab.research.google.com/github/bggokmou/BigdataHomework/blob/master/4%EC%A3%BC%EC%B0%A8_%EA%B3%BC%EC%A0%9C2.ipynb\" target=\"_parent\"><img src=\"https://colab.research.google.com/assets/colab-badge.svg\" alt=\"Open In Colab\"/></a>"
      ]
    },
    {
      "cell_type": "markdown",
      "source": [
        "아래 문제를 이해하여 원하는 결과 가 나올 수 있도록 힌트 를 참고하여 프로그램을 완성하세요."
      ],
      "metadata": {
        "id": "dy_KMx3ut4c7"
      }
    },
    {
      "cell_type": "code",
      "execution_count": 6,
      "metadata": {
        "colab": {
          "base_uri": "https://localhost:8080/"
        },
        "id": "1mtimgzDtX8k",
        "outputId": "a1e2024c-a236-4881-902a-7c089b3f7829"
      },
      "outputs": [
        {
          "output_type": "stream",
          "name": "stdout",
          "text": [
            "리스트의 원소 :  [82, 27, 90, 30, 87, 56]\n",
            "최대값 :  90\n",
            "최소값 :  27\n"
          ]
        }
      ],
      "source": [
        "def getMinAndMAx(mylist):\n",
        "  min_value = mylist[0]\n",
        "  max_value = mylist[0]\n",
        "\n",
        "  for value in mylist:\n",
        "    if value > max_value:\n",
        "      max_value = value\n",
        "    if value < min_value:\n",
        "      min_value = value\n",
        "  return max_value, min_value\n",
        "\n",
        "mylist = [82, 27, 90, 30, 87, 56]\n",
        "\n",
        "max_value, min_value = getMinAndMAx(mylist)\n",
        "print(\"리스트의 원소 : \" ,mylist)\n",
        "print(\"최대값 : \",max_value)\n",
        "print(\"최소값 : \",min_value)"
      ]
    },
    {
      "cell_type": "markdown",
      "source": [
        "추가) 사용자로부터 리스트를 받아서 출력하는 프로그램"
      ],
      "metadata": {
        "id": "cJ7c2h95yTR9"
      }
    },
    {
      "cell_type": "code",
      "source": [
        "def getMinAndMax(mylist):\n",
        "    min_value = mylist[0]\n",
        "    max_value = mylist[0]\n",
        "\n",
        "    for value in mylist:\n",
        "        if value > max_value:\n",
        "            max_value = value\n",
        "        if value < min_value:\n",
        "            min_value = value\n",
        "\n",
        "    return max_value, min_value\n",
        "\n",
        "# 사용자로부터 입력 받음\n",
        "input_string = input(\"숫자들을 쉼표로 구분하여 입력하세요: \")\n",
        "# 입력 받은 문자열을 쉼표로 분리하고, 각각을 정수로 변환하여 리스트에 저장\n",
        "mylist = [int(num) for num in input_string.split(',')]\n",
        "\n",
        "# 함수 호출 및 결과 출력\n",
        "max_value, min_value = getMinAndMax(mylist)\n",
        "print(\"리스트의 원소 :\", mylist)\n",
        "print(\"최대값 :\", max_value)\n",
        "print(\"최소값 :\", min_value)\n"
      ],
      "metadata": {
        "colab": {
          "base_uri": "https://localhost:8080/"
        },
        "id": "ZryweYupxvKs",
        "outputId": "4b3b50a6-265b-45fe-da4f-1e9529e1f837"
      },
      "execution_count": 7,
      "outputs": [
        {
          "output_type": "stream",
          "name": "stdout",
          "text": [
            "숫자들을 쉼표로 구분하여 입력하세요: 3,6,1,2,65,4,3,2,5,7\n",
            "리스트의 원소 : [3, 6, 1, 2, 65, 4, 3, 2, 5, 7]\n",
            "최대값 : 65\n",
            "최소값 : 1\n"
          ]
        }
      ]
    }
  ]
}