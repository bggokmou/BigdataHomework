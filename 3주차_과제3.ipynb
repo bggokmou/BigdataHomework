{
  "nbformat": 4,
  "nbformat_minor": 0,
  "metadata": {
    "colab": {
      "provenance": [],
      "authorship_tag": "ABX9TyORSDO6ivVn0mnrP8Qb5Vuh",
      "include_colab_link": true
    },
    "kernelspec": {
      "name": "python3",
      "display_name": "Python 3"
    },
    "language_info": {
      "name": "python"
    }
  },
  "cells": [
    {
      "cell_type": "markdown",
      "metadata": {
        "id": "view-in-github",
        "colab_type": "text"
      },
      "source": [
        "<a href=\"https://colab.research.google.com/github/bggokmou/BigdataHomework/blob/master/3%EC%A3%BC%EC%B0%A8_%EA%B3%BC%EC%A0%9C3.ipynb\" target=\"_parent\"><img src=\"https://colab.research.google.com/assets/colab-badge.svg\" alt=\"Open In Colab\"/></a>"
      ]
    },
    {
      "cell_type": "markdown",
      "source": [
        "### 사용자로부터 다음과 같은 주문을 받은 후 주문한 내용이 메뉴에 있는지 구하는 프로그램을 작성하라 (힌트 : in 연산자를 사용할 것)\n",
        "---\n",
        "실행결과\n",
        "```\n",
        "Americano 가격 : 3,000 원\n",
        "Ice Americano 가격 : 3,500 원\n",
        "Cappuccino 가격 : 4,000 원\n",
        "Cafe Latte 가격 : 4,500 원\n",
        "Espresso 가격 : 3,600 원\n",
        "위의 메뉴중 하나를 선택하세요 : Espresso\n",
        "Espresso는 3,600 원 입니다. 결제를 부탁합니다.\n",
        "```\n",
        "실행결과\n",
        "```\n",
        "Americano 가격 : 3,000 원\n",
        "Ice Americano 가격 : 3,500 원\n",
        "Cappuccino 가격 : 4,000 원\n",
        "Cafe Latte 가격 : 4,500 원\n",
        "Espresso 가격 : 3,600 원\n",
        "위의 메뉴중 하나를 선택하세요 : Fan Cake\n",
        "미안합니다. Fan Cake 는 메뉴에 없습니다.\n",
        "```\n"
      ],
      "metadata": {
        "id": "VnqdNLhd2_CS"
      }
    },
    {
      "cell_type": "code",
      "execution_count": 4,
      "metadata": {
        "colab": {
          "base_uri": "https://localhost:8080/"
        },
        "id": "MsjeodIl263n",
        "outputId": "712cafa5-6bdf-4284-a773-151dd4ceb5e5"
      },
      "outputs": [
        {
          "output_type": "stream",
          "name": "stdout",
          "text": [
            "메뉴판:\n",
            "Americano: 3,000 원\n",
            "Ice Americano: 3,500 원\n",
            "Cappuccino: 4,000 원\n",
            "Cafe Latte: 4,500 원\n",
            "Espresso: 3,600 원\n",
            "위의 메뉴 중 하나를 선택하세요: Fan cake\n",
            "미안합니다. Fan cake는 메뉴에 없습니다.\n"
          ]
        }
      ],
      "source": [
        "# 메뉴 및 가격 정보를 담고 있는 딕셔너리\n",
        "menu = {\n",
        "    'Americano': '3,000 원',\n",
        "    'Ice Americano': '3,500 원',\n",
        "    'Cappuccino': '4,000 원',\n",
        "    'Cafe Latte': '4,500 원',\n",
        "    'Espresso': '3,600 원'\n",
        "}\n",
        "\n",
        "# 메뉴판 출력\n",
        "print(\"메뉴판:\")\n",
        "for item, price in menu.items():\n",
        "    print(f\"{item}: {price}\")\n",
        "\n",
        "# 사용자로부터 메뉴 선택 입력 받기\n",
        "choice = input('위의 메뉴 중 하나를 선택하세요: ')\n",
        "\n",
        "# 선택한 메뉴가 메뉴에 있는지 확인 후 가격 출력 또는 없음 알림\n",
        "if choice in menu:\n",
        "    print(f'{choice}는 {menu[choice]} 입니다. 결제를 부탁합니다.')\n",
        "else:\n",
        "    print(f'미안합니다. {choice}는 메뉴에 없습니다.')"
      ]
    },
    {
      "cell_type": "code",
      "source": [
        "# 메뉴 및 가격 정보를 담고 있는 딕셔너리 (가격을 숫자로 저장)\n",
        "menu = {\n",
        "    'Americano': 3000,\n",
        "    'Ice Americano': 3500,\n",
        "    'Cappuccino': 4000,\n",
        "    'Cafe Latte': 4500,\n",
        "    'Espresso': 3600\n",
        "}\n",
        "\n",
        "# 메뉴판 출력\n",
        "print(\"메뉴판:\")\n",
        "for item, price in menu.items():\n",
        "    print(f\"{item}: {price:,} 원\")\n",
        "\n",
        "# 사용자로부터 인원 수 입력 받기\n",
        "people_count = int(input('몇 분이십니까? '))\n",
        "\n",
        "# 주문 내역 저장을 위한 딕셔너리\n",
        "orders = {}\n",
        "\n",
        "# 전체 주문 합계를 저장할 변수\n",
        "total_price = 0\n",
        "\n",
        "# 각 사용자별로 주문 받기\n",
        "for person in range(1, people_count + 1):\n",
        "    while True:  # 올바른 주문을 받을 때까지 반복\n",
        "        print(f\"{person}번째 손님, 주문하실 메뉴를 선택해주세요.\")\n",
        "        choice = input('> ')\n",
        "        # 선택한 메뉴가 메뉴에 있는지 확인 후 주문 내역에 추가\n",
        "        if choice in menu:\n",
        "            print(f'{choice} 선택하셨습니다. 가격은 {menu[choice]:,} 원 입니다.')\n",
        "            orders[person] = choice\n",
        "            total_price += menu[choice]  # 주문 가격을 합계에 추가\n",
        "            break  # 올바른 주문을 받으면 반복 종료\n",
        "        else:\n",
        "            print(f'미안합니다. {choice}는 메뉴에 없습니다. 다시 선택해주세요.')\n",
        "\n",
        "# 주문 내역 출력\n",
        "print(\"\\n주문 내역:\")\n",
        "for person, choice in orders.items():\n",
        "    print(f\"{person}번 손님: {choice} - {menu[choice]:,} 원\")\n",
        "\n",
        "# 전체 주문의 합계 출력\n",
        "print(f\"\\n전체 주문 합계: {total_price:,} 원 입니다.\")\n"
      ],
      "metadata": {
        "colab": {
          "base_uri": "https://localhost:8080/"
        },
        "id": "-lNmV6Nn5R7p",
        "outputId": "e39bd844-bf35-4fb3-fc7d-d2aeb3d4a393"
      },
      "execution_count": 8,
      "outputs": [
        {
          "output_type": "stream",
          "name": "stdout",
          "text": [
            "메뉴판:\n",
            "Americano: 3,000 원\n",
            "Ice Americano: 3,500 원\n",
            "Cappuccino: 4,000 원\n",
            "Cafe Latte: 4,500 원\n",
            "Espresso: 3,600 원\n",
            "몇 분이십니까? 3\n",
            "1번째 손님, 주문하실 메뉴를 선택해주세요.\n",
            "> Americano\n",
            "Americano 선택하셨습니다. 가격은 3,000 원 입니다.\n",
            "2번째 손님, 주문하실 메뉴를 선택해주세요.\n",
            "> Ice Americano\n",
            "Ice Americano 선택하셨습니다. 가격은 3,500 원 입니다.\n",
            "3번째 손님, 주문하실 메뉴를 선택해주세요.\n",
            "> Beer\n",
            "미안합니다. Beer는 메뉴에 없습니다. 다시 선택해주세요.\n",
            "3번째 손님, 주문하실 메뉴를 선택해주세요.\n",
            "> Soju\n",
            "미안합니다. Soju는 메뉴에 없습니다. 다시 선택해주세요.\n",
            "3번째 손님, 주문하실 메뉴를 선택해주세요.\n",
            "> Espresso\n",
            "Espresso 선택하셨습니다. 가격은 3,600 원 입니다.\n",
            "\n",
            "주문 내역:\n",
            "1번 손님: Americano - 3,000 원\n",
            "2번 손님: Ice Americano - 3,500 원\n",
            "3번 손님: Espresso - 3,600 원\n",
            "\n",
            "전체 주문 합계: 10,100 원 입니다.\n"
          ]
        }
      ]
    }
  ]
}