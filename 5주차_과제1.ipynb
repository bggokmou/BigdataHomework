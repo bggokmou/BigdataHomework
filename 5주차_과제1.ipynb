{
  "nbformat": 4,
  "nbformat_minor": 0,
  "metadata": {
    "colab": {
      "provenance": [],
      "authorship_tag": "ABX9TyPKEJesZhY8r/I8dCLvu0w+",
      "include_colab_link": true
    },
    "kernelspec": {
      "name": "python3",
      "display_name": "Python 3"
    },
    "language_info": {
      "name": "python"
    }
  },
  "cells": [
    {
      "cell_type": "markdown",
      "metadata": {
        "id": "view-in-github",
        "colab_type": "text"
      },
      "source": [
        "<a href=\"https://colab.research.google.com/github/bggokmou/BigdataHomework/blob/master/5%EC%A3%BC%EC%B0%A8_%EA%B3%BC%EC%A0%9C1.ipynb\" target=\"_parent\"><img src=\"https://colab.research.google.com/assets/colab-badge.svg\" alt=\"Open In Colab\"/></a>"
      ]
    },
    {
      "cell_type": "markdown",
      "source": [
        "numpy 활용하기 : lotto 프로그램\n",
        "\n",
        "1.앞의 lotto 프로그램의 결과를 3 회 실시하면서 매 회 결과를 list 에 담고 , 3 회에 결과를 모두 2 차원 배열의 shape 가 (3, 6) 되도록 만드세요\n",
        "2. github\n",
        "에 과제 ‘ 에 풀이 과정을 올리세요 학습사이트 과제제출에는 github url 만 올리세요"
      ],
      "metadata": {
        "id": "_Hqr-DLHBuIT"
      }
    },
    {
      "cell_type": "code",
      "execution_count": 6,
      "metadata": {
        "colab": {
          "base_uri": "https://localhost:8080/"
        },
        "id": "8T828kmlBVSx",
        "outputId": "17268a1b-3f11-4c9f-c9e0-b8bfa017e181"
      },
      "outputs": [
        {
          "output_type": "stream",
          "name": "stdout",
          "text": [
            "1회차 로또 추첨 결과 = [35 32  5 16 43  7]\n",
            "2회차 로또 추첨 결과 = [ 3  8 16 37 43 29]\n",
            "3회차 로또 추첨 결과 = [35 37 34 23 26 15]\n",
            "[[35 37 34 23 26 15]\n",
            " [35 37 34 23 26 15]\n",
            " [35 37 34 23 26 15]]\n"
          ]
        }
      ],
      "source": [
        "import numpy as np\n",
        "\n",
        "a = np.arange(1, 46)\n",
        "result = []\n",
        "\n",
        "for i in range(3):\n",
        "    np.random.shuffle(a)\n",
        "    lotto = a[:6]\n",
        "    print(f\"{i+1}회차 로또 추첨 결과 =\", lotto)\n",
        "    result.append(lotto)\n",
        "\n",
        "result_array = np.array(result)\n",
        "print(result_array)\n"
      ]
    }
  ]
}