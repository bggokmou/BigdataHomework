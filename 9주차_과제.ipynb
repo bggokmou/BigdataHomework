{
  "nbformat": 4,
  "nbformat_minor": 0,
  "metadata": {
    "colab": {
      "provenance": [],
      "authorship_tag": "ABX9TyNtxP+0hTQR6nNjszVVwd94",
      "include_colab_link": true
    },
    "kernelspec": {
      "name": "python3",
      "display_name": "Python 3"
    },
    "language_info": {
      "name": "python"
    }
  },
  "cells": [
    {
      "cell_type": "markdown",
      "metadata": {
        "id": "view-in-github",
        "colab_type": "text"
      },
      "source": [
        "<a href=\"https://colab.research.google.com/github/bggokmou/BigdataHomework/blob/master/9%EC%A3%BC%EC%B0%A8_%EA%B3%BC%EC%A0%9C.ipynb\" target=\"_parent\"><img src=\"https://colab.research.google.com/assets/colab-badge.svg\" alt=\"Open In Colab\"/></a>"
      ]
    },
    {
      "cell_type": "code",
      "source": [
        "import pandas as pd\n",
        "\n",
        "# Load JSON file directly into a DataFrame\n",
        "file_path = '/content/finalized_data.json'  # adjust the path as needed\n",
        "df = pd.read_json(file_path)\n",
        "\n",
        "# Display the first few rows of the DataFrame to verify contents\n",
        "print(df.head())\n",
        "\n",
        "# Display DataFrame information to inspect column names and data types\n",
        "print(df.info())\n"
      ],
      "metadata": {
        "colab": {
          "base_uri": "https://localhost:8080/"
        },
        "id": "fcKuymKQWipC",
        "outputId": "6077f0ba-0759-41ca-bd3b-a1c311dddc2c"
      },
      "execution_count": 2,
      "outputs": [
        {
          "output_type": "stream",
          "name": "stdout",
          "text": [
            "                                         nationality      image  \\\n",
            "0  https://cdnjs.cloudflare.com/ajax/libs/flag-ic...  85260.png   \n",
            "1  https://cdnjs.cloudflare.com/ajax/libs/flag-ic...  52690.png   \n",
            "2  https://cdnjs.cloudflare.com/ajax/libs/flag-ic...  88100.png   \n",
            "3  https://cdnjs.cloudflare.com/ajax/libs/flag-ic...  49590.png   \n",
            "4  https://cdnjs.cloudflare.com/ajax/libs/flag-ic...  41105.png   \n",
            "\n",
            "              name                 club                     position  height  \\\n",
            "0    Kylian Mbappé  Paris Saint-Germain    Attacking Midfielder Left     178   \n",
            "1    Mohamed Salah            Liverpool   Attacking Midfielder Right     175   \n",
            "2   Erling Haaland      Manchester City               Forward Centre     194   \n",
            "3       Harry Kane       Bayern München  Attacking Midfielder Centre     188   \n",
            "4  Kevin de Bruyne      Manchester City            Midfielder Centre     181   \n",
            "\n",
            "    foot  age  \n",
            "0  Right   25  \n",
            "1   Left   31  \n",
            "2   Left   23  \n",
            "3  Right   30  \n",
            "4  Right   32  \n",
            "<class 'pandas.core.frame.DataFrame'>\n",
            "RangeIndex: 565 entries, 0 to 564\n",
            "Data columns (total 8 columns):\n",
            " #   Column       Non-Null Count  Dtype \n",
            "---  ------       --------------  ----- \n",
            " 0   nationality  565 non-null    object\n",
            " 1   image        565 non-null    object\n",
            " 2   name         565 non-null    object\n",
            " 3   club         565 non-null    object\n",
            " 4   position     565 non-null    object\n",
            " 5   height       565 non-null    int64 \n",
            " 6   foot         565 non-null    object\n",
            " 7   age          565 non-null    int64 \n",
            "dtypes: int64(2), object(6)\n",
            "memory usage: 35.4+ KB\n",
            "None\n"
          ]
        }
      ]
    },
    {
      "cell_type": "code",
      "execution_count": 5,
      "metadata": {
        "colab": {
          "base_uri": "https://localhost:8080/"
        },
        "id": "UA13eD_9S5L_",
        "outputId": "27a57ba6-a9fe-45ea-f7e0-aaed6b52d986"
      },
      "outputs": [
        {
          "output_type": "stream",
          "name": "stdout",
          "text": [
            "  hour  temp  wfKor wdKor reh\n",
            "0   15  16.0     흐림     동  50\n",
            "1   18  15.0  구름 많음    북동  55\n",
            "2   21  12.0     맑음    북동  70\n",
            "3   24  10.0     맑음     북  80\n",
            "4    3   8.0     맑음     북  85\n",
            "<class 'pandas.core.frame.DataFrame'>\n",
            "RangeIndex: 20 entries, 0 to 19\n",
            "Data columns (total 5 columns):\n",
            " #   Column  Non-Null Count  Dtype \n",
            "---  ------  --------------  ----- \n",
            " 0   hour    20 non-null     object\n",
            " 1   temp    20 non-null     object\n",
            " 2   wfKor   20 non-null     object\n",
            " 3   wdKor   20 non-null     object\n",
            " 4   reh     20 non-null     object\n",
            "dtypes: object(5)\n",
            "memory usage: 928.0+ bytes\n",
            "None\n"
          ]
        }
      ],
      "source": [
        "import requests\n",
        "import xml.etree.ElementTree as ET\n",
        "import pandas as pd\n",
        "\n",
        "# URL for the XML data\n",
        "url = \"http://www.kma.go.kr/wid/queryDFSRSS.jsp?zone=2644056000\"\n",
        "\n",
        "# Fetch the XML data from the KMA server\n",
        "response = requests.get(url)\n",
        "xml_data = response.content\n",
        "\n",
        "# Parse the XML data\n",
        "root = ET.fromstring(xml_data)\n",
        "\n",
        "# Initialize a list to store the data\n",
        "weather_data = []\n",
        "\n",
        "# Assuming the structure includes specific tags you are interested in\n",
        "# You will need to adjust these based on the actual XML structure and tags\n",
        "for item in root.findall('.//body//data'):\n",
        "    record = {\n",
        "        'hour': item.find('hour').text,\n",
        "        'temp': item.find('temp').text,\n",
        "        'wfKor': item.find('wfKor').text,\n",
        "        'wdKor': item.find('wdKor').text,\n",
        "        'reh': item.find('reh').text  # Relative humidity\n",
        "    }\n",
        "    weather_data.append(record)\n",
        "\n",
        "# Convert list of dictionaries to DataFrame\n",
        "df = pd.DataFrame(weather_data)\n",
        "\n",
        "# Display DataFrame\n",
        "print(df.head())\n",
        "print(df.info())\n"
      ]
    }
  ]
}