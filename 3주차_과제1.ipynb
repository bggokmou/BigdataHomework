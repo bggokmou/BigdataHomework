{
  "nbformat": 4,
  "nbformat_minor": 0,
  "metadata": {
    "colab": {
      "provenance": [],
      "authorship_tag": "ABX9TyODdFil/nKv3gGulvpYr92o",
      "include_colab_link": true
    },
    "kernelspec": {
      "name": "python3",
      "display_name": "Python 3"
    },
    "language_info": {
      "name": "python"
    }
  },
  "cells": [
    {
      "cell_type": "markdown",
      "metadata": {
        "id": "view-in-github",
        "colab_type": "text"
      },
      "source": [
        "<a href=\"https://colab.research.google.com/github/bggokmou/BigdataHomework/blob/master/3%EC%A3%BC%EC%B0%A8_%EA%B3%BC%EC%A0%9C1.ipynb\" target=\"_parent\"><img src=\"https://colab.research.google.com/assets/colab-badge.svg\" alt=\"Open In Colab\"/></a>"
      ]
    },
    {
      "cell_type": "markdown",
      "source": [
        "# 3주차 과제 1\n",
        "주어진 튜플에서 가장 많이 나타나는 요소를 출력하라.\n",
        "이때 가장 많이 나타나는 요소가 두개 이상일 경우 이들 중에서 가장 큰 값을 출력하여라.\n",
        "---\n",
        "실행결과\n",
        "```\n",
        "주어진 튜플은 : (1, 2, 5, 4, 3, 2, 1, 4, 7, 8, 9, 9, 3, 7, 3)\n",
        "가장 많이 나타나는 원소는 : 3\n",
        "```\n",
        "## 혹은 3 과 9 가 각각 3 회 나타나는 다음의 경우\n",
        "실행결과\n",
        "```\n",
        "주어진 튜플은 : (1, 2, 5, 4, 3, 2, 9, 4, 7, 8, 9, 9, 3, 7, 3)\n",
        "가장 많이 나타나는 원소는 : 9\n",
        "```"
      ],
      "metadata": {
        "id": "5zl3ohTG8Vcl"
      }
    },
    {
      "cell_type": "code",
      "execution_count": null,
      "metadata": {
        "id": "_LuY-UQg8RhT",
        "colab": {
          "base_uri": "https://localhost:8080/"
        },
        "outputId": "7fe53da7-07ec-4b97-d960-4e33cda16dd7"
      },
      "outputs": [
        {
          "output_type": "stream",
          "name": "stdout",
          "text": [
            "주어진 튜플 : (1, 2, 5, 4, 3, 2, 1, 4, 7, 8, 9, 9, 3, 7, 3)\n",
            "가장 많이 나타나는 요소는 :  3\n"
          ]
        }
      ],
      "source": [
        "tup = 1, 2, 5, 4, 3, 2, 1, 4, 7, 8, 9, 9, 3, 7, 3\n",
        "print('주어진 튜플 :',tup)\n",
        "temp = sorted(list(tup))\n",
        "max_count = 1\n",
        "count = 1\n",
        "cur_value = max_value = temp[0]\n",
        "for i in range(1, len(temp)):\n",
        "  if temp[i] is cur_value:\n",
        "    count += 1\n",
        "    if count >= max_count:\n",
        "      max_count = count\n",
        "      max_value = cur_value\n",
        "  else:\n",
        "    cur_value = temp[i]\n",
        "    count = 1\n",
        "print('가장 많이 나타나는 요소는 : ',max_value)"
      ]
    },
    {
      "cell_type": "code",
      "source": [
        "tup = 1, 2, 5, 4, 3, 2, 9, 4, 7, 8, 9, 9, 3, 7, 3\n",
        "print('주어진 튜플 :',tup)\n",
        "temp = sorted(list(tup))\n",
        "max_count = 1\n",
        "count = 1\n",
        "cur_value = max_value = temp[0]\n",
        "for i in range(1, len(temp)):\n",
        "  if temp[i] is cur_value:\n",
        "    count += 1\n",
        "    if count >= max_count:\n",
        "      max_count = count\n",
        "      max_value = cur_value\n",
        "  else:\n",
        "    cur_value = temp[i]\n",
        "    count = 1\n",
        "print('가장 많이 나타나는 요소는 : ',max_value)"
      ],
      "metadata": {
        "colab": {
          "base_uri": "https://localhost:8080/"
        },
        "id": "A5uXvpMS0SYd",
        "outputId": "9ba930c8-17af-4f8a-87a0-0adfcf622241"
      },
      "execution_count": null,
      "outputs": [
        {
          "output_type": "stream",
          "name": "stdout",
          "text": [
            "주어진 튜플 : (1, 2, 5, 4, 3, 2, 9, 4, 7, 8, 9, 9, 3, 7, 3)\n",
            "가장 많이 나타나는 요소는 :  9\n"
          ]
        }
      ]
    }
  ]
}