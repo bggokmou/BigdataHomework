{
  "nbformat": 4,
  "nbformat_minor": 0,
  "metadata": {
    "colab": {
      "provenance": [],
      "authorship_tag": "ABX9TyMBGSsxilAeTmQOe9qR5aY7",
      "include_colab_link": true
    },
    "kernelspec": {
      "name": "python3",
      "display_name": "Python 3"
    },
    "language_info": {
      "name": "python"
    }
  },
  "cells": [
    {
      "cell_type": "markdown",
      "metadata": {
        "id": "view-in-github",
        "colab_type": "text"
      },
      "source": [
        "<a href=\"https://colab.research.google.com/github/bggokmou/BigdataHomework/blob/master/2%EC%A3%BC%EC%B0%A8%20%EA%B3%BC%EC%A0%9C1.ipynb\" target=\"_parent\"><img src=\"https://colab.research.google.com/assets/colab-badge.svg\" alt=\"Open In Colab\"/></a>"
      ]
    },
    {
      "cell_type": "markdown",
      "source": [
        "(과제 1) 리스트와 for 문을 이용한 list 조작하기\n",
        "\n",
        "a = [2, 3, 4, 5, 6] 이 있을 경우 , 이 리스트의 순서를 바꾸는 기능을 reverse() 메소드를 사용하지 않고 for in 문과 pop() 메소드를 사용하여 구현.\n",
        "\n",
        "힌트 : 리스트의 원소를 하나하나 순회하면서 pop() 메소드를 호출하시오"
      ],
      "metadata": {
        "id": "A7qeysYxrV5V"
      }
    },
    {
      "cell_type": "code",
      "source": [
        "a = [2,3,4,5,6]\n",
        "b = a[:]\n",
        "\n",
        "rev_a = []\n",
        "for i in range(len(a)):\n",
        "  rev_a.append(b.pop())\n",
        "\n",
        "print('a = ', a)\n",
        "print('rev_a =', rev_a)"
      ],
      "metadata": {
        "colab": {
          "base_uri": "https://localhost:8080/"
        },
        "id": "_RBaIE6ZrX5-",
        "outputId": "1148431c-2887-4f20-f93e-587a2355b4b1"
      },
      "execution_count": 13,
      "outputs": [
        {
          "output_type": "stream",
          "name": "stdout",
          "text": [
            "a =  [2, 3, 4, 5, 6]\n",
            "rev_a = [6, 5, 4, 3, 2]\n"
          ]
        }
      ]
    }
  ]
}