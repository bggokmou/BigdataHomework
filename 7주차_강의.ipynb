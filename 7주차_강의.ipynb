{
  "nbformat": 4,
  "nbformat_minor": 0,
  "metadata": {
    "colab": {
      "provenance": [],
      "authorship_tag": "ABX9TyN4j3xeOvqtJnn+CiZpB9ZH",
      "include_colab_link": true
    },
    "kernelspec": {
      "name": "python3",
      "display_name": "Python 3"
    },
    "language_info": {
      "name": "python"
    }
  },
  "cells": [
    {
      "cell_type": "markdown",
      "metadata": {
        "id": "view-in-github",
        "colab_type": "text"
      },
      "source": [
        "<a href=\"https://colab.research.google.com/github/bggokmou/BigdataHomework/blob/master/7%EC%A3%BC%EC%B0%A8_%EA%B0%95%EC%9D%98.ipynb\" target=\"_parent\"><img src=\"https://colab.research.google.com/assets/colab-badge.svg\" alt=\"Open In Colab\"/></a>"
      ]
    },
    {
      "cell_type": "code",
      "execution_count": 2,
      "metadata": {
        "colab": {
          "base_uri": "https://localhost:8080/"
        },
        "id": "eDu1cGf22h5y",
        "outputId": "352704d0-b8e6-453e-91a9-e1a085b7f647"
      },
      "outputs": [
        {
          "output_type": "stream",
          "name": "stdout",
          "text": [
            "            평균기온  최대풍속  평균풍속\n",
            "일시                          \n",
            "2010-08-01  28.7   8.3   3.4\n",
            "2010-08-02  25.2   8.7   3.8\n",
            "2010-08-03  22.1   6.3   2.9\n",
            "weather 데이터의 shape : (3653, 3)\n"
          ]
        }
      ],
      "source": [
        "import pandas as pd\n",
        "\n",
        "path = 'https://github.com/dongupak/DataML/raw/main/csv/'\n",
        "weather_file = path + 'weather.csv'\n",
        "\n",
        "weather = pd.read_csv(weather_file, index_col = 0, encoding='CP949')\n",
        "print(weather.head(3))\n",
        "print('weather 데이터의 shape :', weather.shape)"
      ]
    },
    {
      "cell_type": "code",
      "source": [
        "print('평균 분석 ----------------------')\n",
        "print(weather.mean())\n",
        "print('표준편차 분석-------------------')\n",
        "print(weather.std())"
      ],
      "metadata": {
        "colab": {
          "base_uri": "https://localhost:8080/"
        },
        "id": "60DMMljM3dYF",
        "outputId": "97a282f8-09ea-4aba-bda1-e5f81175cbc9"
      },
      "execution_count": 4,
      "outputs": [
        {
          "output_type": "stream",
          "name": "stdout",
          "text": [
            "평균 분석 ----------------------\n",
            "평균기온    12.942102\n",
            "최대풍속     7.911099\n",
            "평균풍속     3.936441\n",
            "dtype: float64\n",
            "표준편차 분석-------------------\n",
            "평균기온    8.538507\n",
            "최대풍속    3.029862\n",
            "평균풍속    1.888473\n",
            "dtype: float64\n"
          ]
        }
      ]
    },
    {
      "cell_type": "code",
      "source": [
        "import pandas as pd\n",
        "\n",
        "path = 'https://github.com/dongupak/DataML/raw/main/csv/'\n",
        "weather_file = path + 'weather.csv'\n",
        "\n",
        "weather = pd.read_csv(weather_file, index_col = 0, encoding='CP949')\n",
        "\n",
        "print('최대풍속의 최대값 : ', weather['최대풍속'].max())\n",
        "print('평균풍속의 최대값 : ', weather['평균풍속'].max())"
      ],
      "metadata": {
        "colab": {
          "base_uri": "https://localhost:8080/"
        },
        "id": "Zcc3T2BP33q9",
        "outputId": "b8db0d17-0ae2-4aef-a480-20e95e8fc726"
      },
      "execution_count": 14,
      "outputs": [
        {
          "output_type": "stream",
          "name": "stdout",
          "text": [
            "최대풍속의 최대값 :  26.0\n",
            "평균풍속의 최대값 :  14.9\n"
          ]
        }
      ]
    },
    {
      "cell_type": "code",
      "source": [
        "weather.count()"
      ],
      "metadata": {
        "colab": {
          "base_uri": "https://localhost:8080/"
        },
        "id": "5mCtwmwa4V4w",
        "outputId": "2c97b30d-b2b0-4bb1-98ed-ea6cd6f4e46b"
      },
      "execution_count": 7,
      "outputs": [
        {
          "output_type": "execute_result",
          "data": {
            "text/plain": [
              "평균기온    3653\n",
              "최대풍속    3649\n",
              "평균풍속    3647\n",
              "dtype: int64"
            ]
          },
          "metadata": {},
          "execution_count": 7
        }
      ]
    },
    {
      "cell_type": "code",
      "source": [
        "missing_data = weather[ weather['평균풍속'].isna()]\n",
        "print(missing_data)"
      ],
      "metadata": {
        "colab": {
          "base_uri": "https://localhost:8080/"
        },
        "id": "E3pkhRPc5Dgm",
        "outputId": "63346d52-badb-4157-dac1-8fbdae3947d6"
      },
      "execution_count": 13,
      "outputs": [
        {
          "output_type": "stream",
          "name": "stdout",
          "text": [
            "Empty DataFrame\n",
            "Columns: [평균기온, 최대풍속, 평균풍속]\n",
            "Index: []\n"
          ]
        }
      ]
    },
    {
      "cell_type": "code",
      "source": [
        "# pandas.Dataframe.dropna(axis=0, how='any', inplace=False)\n",
        "#axis 0이면 행 삭제, 1이면 열삭제.\n",
        "# any:하나라도없으면 제거대상, all: 전체\n",
        "# False : 원본을 그대로 두고 대상 삭제한 복사본 사용, True : 원본에서 삭제"
      ],
      "metadata": {
        "id": "ufinMplC5vtb"
      },
      "execution_count": 21,
      "outputs": []
    },
    {
      "cell_type": "code",
      "source": [
        "weather.fillna(0, inplace=True)\n",
        "print(weather.loc['2012-02-11'])"
      ],
      "metadata": {
        "colab": {
          "base_uri": "https://localhost:8080/"
        },
        "id": "j7hWnx_a6zpG",
        "outputId": "b0a9b08d-7421-4a6f-a629-bee87748d441"
      },
      "execution_count": 11,
      "outputs": [
        {
          "output_type": "stream",
          "name": "stdout",
          "text": [
            "평균기온   -0.7\n",
            "최대풍속    0.0\n",
            "평균풍속    0.0\n",
            "Name: 2012-02-11, dtype: float64\n"
          ]
        }
      ]
    },
    {
      "cell_type": "code",
      "source": [
        "weather.fillna(weather['평균풍속'].mean(), inplace=True)\n",
        "print(weather.loc['2012-02-11'])"
      ],
      "metadata": {
        "colab": {
          "base_uri": "https://localhost:8080/"
        },
        "id": "Af-F_IXD7NPN",
        "outputId": "6a9f8700-e059-44d8-a94d-f3af5f9dad3b"
      },
      "execution_count": 15,
      "outputs": [
        {
          "output_type": "stream",
          "name": "stdout",
          "text": [
            "평균기온   -0.700000\n",
            "최대풍속    3.936441\n",
            "평균풍속    3.936441\n",
            "Name: 2012-02-11, dtype: float64\n"
          ]
        }
      ]
    },
    {
      "cell_type": "code",
      "source": [
        "d_list=[\"01/03/2018\", \"2018-01-05\", \"2018/01/06\", \"01,04,2018\"]\n",
        "pd.DatetimeIndex(d_list).year"
      ],
      "metadata": {
        "colab": {
          "base_uri": "https://localhost:8080/"
        },
        "id": "guq8cm6iD4lu",
        "outputId": "42599c4a-3aca-4cfd-87a0-9afb1d78480c"
      },
      "execution_count": 18,
      "outputs": [
        {
          "output_type": "execute_result",
          "data": {
            "text/plain": [
              "Index([2018, 2018, 2018, 2018], dtype='int32')"
            ]
          },
          "metadata": {},
          "execution_count": 18
        }
      ]
    },
    {
      "cell_type": "code",
      "source": [
        "pd.DatetimeIndex(d_list).month"
      ],
      "metadata": {
        "colab": {
          "base_uri": "https://localhost:8080/"
        },
        "id": "cpObuV6BGAOU",
        "outputId": "9bc6ac8e-0302-4d1b-c431-ac447bd3104c"
      },
      "execution_count": 19,
      "outputs": [
        {
          "output_type": "execute_result",
          "data": {
            "text/plain": [
              "Index([1, 1, 1, 1], dtype='int32')"
            ]
          },
          "metadata": {},
          "execution_count": 19
        }
      ]
    },
    {
      "cell_type": "code",
      "source": [
        "pd.DatetimeIndex(d_list).day"
      ],
      "metadata": {
        "colab": {
          "base_uri": "https://localhost:8080/"
        },
        "id": "PNH-bY0LGE3B",
        "outputId": "bf00455c-fb6a-46cb-9994-248329a865b2"
      },
      "execution_count": 20,
      "outputs": [
        {
          "output_type": "execute_result",
          "data": {
            "text/plain": [
              "Index([3, 5, 6, 1], dtype='int32')"
            ]
          },
          "metadata": {},
          "execution_count": 20
        }
      ]
    },
    {
      "cell_type": "code",
      "source": [
        "import pandas as pd\n",
        "import numpy as np\n",
        "import matplotlib.pyplot as plt\n",
        "\n",
        "path = 'https://github.com/dongupak/DataML/raw/main/csv/'\n",
        "weather_file= path + 'weather.csv'\n",
        "weather = pd.read_csv(weather_file , encoding='CP949')\n",
        "\n",
        "weather['month'] = pd.DatetimeIndex(weather['일시']).month\n",
        "\n",
        "monthly = [None for x in range(12)]\n",
        "monthly_wind = [0 for x in range(12)]\n",
        "for i in range(12):\n",
        "    monthly[i] = weather[weather['month'] == i + 1]\n",
        "    monthly_wind[i] = monthly[i]['평균기온'].astype(float).mean()\n",
        "\n",
        "\n",
        "months = np.arange(1, 13)\n",
        "plt.bar(months, monthly_wind, color='green')\n",
        "plt.xlabel('Month')\n",
        "plt.ylabel('Temperature')"
      ],
      "metadata": {
        "colab": {
          "base_uri": "https://localhost:8080/",
          "height": 466
        },
        "id": "AczGbqNwGSCj",
        "outputId": "4882e497-6ec7-4ec3-b19a-7c573a8f5ba8"
      },
      "execution_count": 28,
      "outputs": [
        {
          "output_type": "execute_result",
          "data": {
            "text/plain": [
              "Text(0, 0.5, 'Temperature')"
            ]
          },
          "metadata": {},
          "execution_count": 28
        },
        {
          "output_type": "display_data",
          "data": {
            "text/plain": [
              "<Figure size 640x480 with 1 Axes>"
            ],
            "image/png": "[encoded data removed]"
          },
          "metadata": {}
        }
      ]
    },
    {
      "cell_type": "code",
      "source": [
        "numeric_cols = weather.select_dtypes(include=[np.number]).columns\n",
        "\n",
        "# 월별로 그룹화하여 숫자형 열의 평균 계산\n",
        "monthly_means = weather.groupby('month')[numeric_cols].mean()\n",
        "\n",
        "print(monthly_means)"
      ],
      "metadata": {
        "colab": {
          "base_uri": "https://localhost:8080/"
        },
        "id": "t6gS4QvwJjuq",
        "outputId": "2f38429c-8b6b-4dd8-d1c1-d60020d29991"
      },
      "execution_count": 36,
      "outputs": [
        {
          "output_type": "stream",
          "name": "stdout",
          "text": [
            "            평균기온      최대풍속      평균풍속  month  year\n",
            "month                                            \n",
            "1       1.598387  8.158065  3.757419    1.0   1.0\n",
            "2       2.136396  8.225357  3.946786    2.0   2.0\n",
            "3       6.250323  8.871935  4.390291    3.0   3.0\n",
            "4      11.064667  9.305017  4.622483    4.0   4.0\n",
            "5      16.564194  8.548710  4.219355    5.0   5.0\n",
            "6      19.616667  6.945667  3.461000    6.0   6.0\n",
            "7      23.328387  7.322581  3.877419    7.0   7.0\n",
            "8      24.748710  6.853226  3.596129    8.0   8.0\n",
            "9      20.323667  6.896333  3.661667    9.0   9.0\n",
            "10     15.383871  7.766774  3.961613   10.0  10.0\n",
            "11      9.889667  8.013333  3.930667   11.0  11.0\n",
            "12      3.753548  8.045484  3.817097   12.0  12.0\n"
          ]
        }
      ]
    },
    {
      "cell_type": "code",
      "source": [
        "weather['year'] = pd.DatetimeIndex(weather['일시']).month\n",
        "yearly_means = weather.groupby('year')['평균풍속'].mean()\n",
        "\n",
        "print(yearly_means)"
      ],
      "metadata": {
        "colab": {
          "base_uri": "https://localhost:8080/"
        },
        "id": "rKDSv-jfLXFn",
        "outputId": "203c4ece-90da-47e5-f9fd-4e142650b39a"
      },
      "execution_count": 32,
      "outputs": [
        {
          "output_type": "stream",
          "name": "stdout",
          "text": [
            "year\n",
            "1     3.757419\n",
            "2     3.946786\n",
            "3     4.390291\n",
            "4     4.622483\n",
            "5     4.219355\n",
            "6     3.461000\n",
            "7     3.877419\n",
            "8     3.596129\n",
            "9     3.661667\n",
            "10    3.961613\n",
            "11    3.930667\n",
            "12    3.817097\n",
            "Name: 평균풍속, dtype: float64\n"
          ]
        }
      ]
    },
    {
      "cell_type": "code",
      "source": [
        "monthly_means[ monthly_means['평균기온'] >= 4.0]"
      ],
      "metadata": {
        "colab": {
          "base_uri": "https://localhost:8080/",
          "height": 363
        },
        "id": "WAPABy2pLtXX",
        "outputId": "16d6b067-d5b9-45eb-8813-95df91a64c3f"
      },
      "execution_count": 37,
      "outputs": [
        {
          "output_type": "execute_result",
          "data": {
            "text/plain": [
              "            평균기온      최대풍속      평균풍속  month  year\n",
              "month                                            \n",
              "3       6.250323  8.871935  4.390291    3.0   3.0\n",
              "4      11.064667  9.305017  4.622483    4.0   4.0\n",
              "5      16.564194  8.548710  4.219355    5.0   5.0\n",
              "6      19.616667  6.945667  3.461000    6.0   6.0\n",
              "7      23.328387  7.322581  3.877419    7.0   7.0\n",
              "8      24.748710  6.853226  3.596129    8.0   8.0\n",
              "9      20.323667  6.896333  3.661667    9.0   9.0\n",
              "10     15.383871  7.766774  3.961613   10.0  10.0\n",
              "11      9.889667  8.013333  3.930667   11.0  11.0"
            ],
            "text/html": [
              "\n",
              "  <div id=\"df-f8dcb467-c0c1-4b93-b33f-6731241adc92\" class=\"colab-df-container\">\n",
              "    <div>\n",
              "<style scoped>\n",
              "    .dataframe tbody tr th:only-of-type {\n",
              "        vertical-align: middle;\n",
              "    }\n",
              "\n",
              "    .dataframe tbody tr th {\n",
              "        vertical-align: top;\n",
              "    }\n",
              "\n",
              "    .dataframe thead th {\n",
              "        text-align: right;\n",
              "    }\n",
              "</style>\n",
              "<table border=\"1\" class=\"dataframe\">\n",
              "  <thead>\n",
              "    <tr style=\"text-align: right;\">\n",
              "      <th></th>\n",
              "      <th>평균기온</th>\n",
              "      <th>최대풍속</th>\n",
              "      <th>평균풍속</th>\n",
              "      <th>month</th>\n",
              "      <th>year</th>\n",
              "    </tr>\n",
              "    <tr>\n",
              "      <th>month</th>\n",
              "      <th></th>\n",
              "      <th></th>\n",
              "      <th></th>\n",
              "      <th></th>\n",
              "      <th></th>\n",
              "    </tr>\n",
              "  </thead>\n",
              "  <tbody>\n",
              "    <tr>\n",
              "      <th>3</th>\n",
              "      <td>6.250323</td>\n",
              "      <td>8.871935</td>\n",
              "      <td>4.390291</td>\n",
              "      <td>3.0</td>\n",
              "      <td>3.0</td>\n",
              "    </tr>\n",
              "    <tr>\n",
              "      <th>4</th>\n",
              "      <td>11.064667</td>\n",
              "      <td>9.305017</td>\n",
              "      <td>4.622483</td>\n",
              "      <td>4.0</td>\n",
              "      <td>4.0</td>\n",
              "    </tr>\n",
              "    <tr>\n",
              "      <th>5</th>\n",
              "      <td>16.564194</td>\n",
              "      <td>8.548710</td>\n",
              "      <td>4.219355</td>\n",
              "      <td>5.0</td>\n",
              "      <td>5.0</td>\n",
              "    </tr>\n",
              "    <tr>\n",
              "      <th>6</th>\n",
              "      <td>19.616667</td>\n",
              "      <td>6.945667</td>\n",
              "      <td>3.461000</td>\n",
              "      <td>6.0</td>\n",
              "      <td>6.0</td>\n",
              "    </tr>\n",
              "    <tr>\n",
              "      <th>7</th>\n",
              "      <td>23.328387</td>\n",
              "      <td>7.322581</td>\n",
              "      <td>3.877419</td>\n",
              "      <td>7.0</td>\n",
              "      <td>7.0</td>\n",
              "    </tr>\n",
              "    <tr>\n",
              "      <th>8</th>\n",
              "      <td>24.748710</td>\n",
              "      <td>6.853226</td>\n",
              "      <td>3.596129</td>\n",
              "      <td>8.0</td>\n",
              "      <td>8.0</td>\n",
              "    </tr>\n",
              "    <tr>\n",
              "      <th>9</th>\n",
              "      <td>20.323667</td>\n",
              "      <td>6.896333</td>\n",
              "      <td>3.661667</td>\n",
              "      <td>9.0</td>\n",
              "      <td>9.0</td>\n",
              "    </tr>\n",
              "    <tr>\n",
              "      <th>10</th>\n",
              "      <td>15.383871</td>\n",
              "      <td>7.766774</td>\n",
              "      <td>3.961613</td>\n",
              "      <td>10.0</td>\n",
              "      <td>10.0</td>\n",
              "    </tr>\n",
              "    <tr>\n",
              "      <th>11</th>\n",
              "      <td>9.889667</td>\n",
              "      <td>8.013333</td>\n",
              "      <td>3.930667</td>\n",
              "      <td>11.0</td>\n",
              "      <td>11.0</td>\n",
              "    </tr>\n",
              "  </tbody>\n",
              "</table>\n",
              "</div>\n",
              "    <div class=\"colab-df-buttons\">\n",
              "\n",
              "  <div class=\"colab-df-container\">\n",
              "    <button class=\"colab-df-convert\" onclick=\"convertToInteractive('df-f8dcb467-c0c1-4b93-b33f-6731241adc92')\"\n",
              "            title=\"Convert this dataframe to an interactive table.\"\n",
              "            style=\"display:none;\">\n",
              "\n",
              "  <svg xmlns=\"http://www.w3.org/2000/svg\" height=\"24px\" viewBox=\"0 -960 960 960\">\n",
              "    <path d=\"M120-120v-720h720v720H120Zm60-500h600v-160H180v160Zm220 220h160v-160H400v160Zm0 220h160v-160H400v160ZM180-400h160v-160H180v160Zm440 0h160v-160H620v160ZM180-180h160v-160H180v160Zm440 0h160v-160H620v160Z\"/>\n",
              "  </svg>\n",
              "    </button>\n",
              "\n",
              "  <style>\n",
              "    .colab-df-container {\n",
              "      display:flex;\n",
              "      gap: 12px;\n",
              "    }\n",
              "\n",
              "    .colab-df-convert {\n",
              "      background-color: #E8F0FE;\n",
              "      border: none;\n",
              "      border-radius: 50%;\n",
              "      cursor: pointer;\n",
              "      display: none;\n",
              "      fill: #1967D2;\n",
              "      height: 32px;\n",
              "      padding: 0 0 0 0;\n",
              "      width: 32px;\n",
              "    }\n",
              "\n",
              "    .colab-df-convert:hover {\n",
              "      background-color: #E2EBFA;\n",
              "      box-shadow: 0px 1px 2px rgba(60, 64, 67, 0.3), 0px 1px 3px 1px rgba(60, 64, 67, 0.15);\n",
              "      fill: #174EA6;\n",
              "    }\n",
              "\n",
              "    .colab-df-buttons div {\n",
              "      margin-bottom: 4px;\n",
              "    }\n",
              "\n",
              "    [theme=dark] .colab-df-convert {\n",
              "      background-color: #3B4455;\n",
              "      fill: #D2E3FC;\n",
              "    }\n",
              "\n",
              "    [theme=dark] .colab-df-convert:hover {\n",
              "      background-color: #434B5C;\n",
              "      box-shadow: 0px 1px 3px 1px rgba(0, 0, 0, 0.15);\n",
              "      filter: drop-shadow(0px 1px 2px rgba(0, 0, 0, 0.3));\n",
              "      fill: #FFFFFF;\n",
              "    }\n",
              "  </style>\n",
              "\n",
              "    <script>\n",
              "      const buttonEl =\n",
              "        document.querySelector('#df-f8dcb467-c0c1-4b93-b33f-6731241adc92 button.colab-df-convert');\n",
              "      buttonEl.style.display =\n",
              "        google.colab.kernel.accessAllowed ? 'block' : 'none';\n",
              "\n",
              "      async function convertToInteractive(key) {\n",
              "        const element = document.querySelector('#df-f8dcb467-c0c1-4b93-b33f-6731241adc92');\n",
              "        const dataTable =\n",
              "          await google.colab.kernel.invokeFunction('convertToInteractive',\n",
              "                                                    [key], {});\n",
              "        if (!dataTable) return;\n",
              "\n",
              "        const docLinkHtml = 'Like what you see? Visit the ' +\n",
              "          '<a target=\"_blank\" href=https://colab.research.google.com/notebooks/data_table.ipynb>data table notebook</a>'\n",
              "          + ' to learn more about interactive tables.';\n",
              "        element.innerHTML = '';\n",
              "        dataTable['output_type'] = 'display_data';\n",
              "        await google.colab.output.renderOutput(dataTable, element);\n",
              "        const docLink = document.createElement('div');\n",
              "        docLink.innerHTML = docLinkHtml;\n",
              "        element.appendChild(docLink);\n",
              "      }\n",
              "    </script>\n",
              "  </div>\n",
              "\n",
              "\n",
              "<div id=\"df-17109928-4a9c-403d-ac6c-25f6299995b4\">\n",
              "  <button class=\"colab-df-quickchart\" onclick=\"quickchart('df-17109928-4a9c-403d-ac6c-25f6299995b4')\"\n",
              "            title=\"Suggest charts\"\n",
              "            style=\"display:none;\">\n",
              "\n",
              "<svg xmlns=\"http://www.w3.org/2000/svg\" height=\"24px\"viewBox=\"0 0 24 24\"\n",
              "     width=\"24px\">\n",
              "    <g>\n",
              "        <path d=\"M19 3H5c-1.1 0-2 .9-2 2v14c0 1.1.9 2 2 2h14c1.1 0 2-.9 2-2V5c0-1.1-.9-2-2-2zM9 17H7v-7h2v7zm4 0h-2V7h2v10zm4 0h-2v-4h2v4z\"/>\n",
              "    </g>\n",
              "</svg>\n",
              "  </button>\n",
              "\n",
              "<style>\n",
              "  .colab-df-quickchart {\n",
              "      --bg-color: #E8F0FE;\n",
              "      --fill-color: #1967D2;\n",
              "      --hover-bg-color: #E2EBFA;\n",
              "      --hover-fill-color: #174EA6;\n",
              "      --disabled-fill-color: #AAA;\n",
              "      --disabled-bg-color: #DDD;\n",
              "  }\n",
              "\n",
              "  [theme=dark] .colab-df-quickchart {\n",
              "      --bg-color: #3B4455;\n",
              "      --fill-color: #D2E3FC;\n",
              "      --hover-bg-color: #434B5C;\n",
              "      --hover-fill-color: #FFFFFF;\n",
              "      --disabled-bg-color: #3B4455;\n",
              "      --disabled-fill-color: #666;\n",
              "  }\n",
              "\n",
              "  .colab-df-quickchart {\n",
              "    background-color: var(--bg-color);\n",
              "    border: none;\n",
              "    border-radius: 50%;\n",
              "    cursor: pointer;\n",
              "    display: none;\n",
              "    fill: var(--fill-color);\n",
              "    height: 32px;\n",
              "    padding: 0;\n",
              "    width: 32px;\n",
              "  }\n",
              "\n",
              "  .colab-df-quickchart:hover {\n",
              "    background-color: var(--hover-bg-color);\n",
              "    box-shadow: 0 1px 2px rgba(60, 64, 67, 0.3), 0 1px 3px 1px rgba(60, 64, 67, 0.15);\n",
              "    fill: var(--button-hover-fill-color);\n",
              "  }\n",
              "\n",
              "  .colab-df-quickchart-complete:disabled,\n",
              "  .colab-df-quickchart-complete:disabled:hover {\n",
              "    background-color: var(--disabled-bg-color);\n",
              "    fill: var(--disabled-fill-color);\n",
              "    box-shadow: none;\n",
              "  }\n",
              "\n",
              "  .colab-df-spinner {\n",
              "    border: 2px solid var(--fill-color);\n",
              "    border-color: transparent;\n",
              "    border-bottom-color: var(--fill-color);\n",
              "    animation:\n",
              "      spin 1s steps(1) infinite;\n",
              "  }\n",
              "\n",
              "  @keyframes spin {\n",
              "    0% {\n",
              "      border-color: transparent;\n",
              "      border-bottom-color: var(--fill-color);\n",
              "      border-left-color: var(--fill-color);\n",
              "    }\n",
              "    20% {\n",
              "      border-color: transparent;\n",
              "      border-left-color: var(--fill-color);\n",
              "      border-top-color: var(--fill-color);\n",
              "    }\n",
              "    30% {\n",
              "      border-color: transparent;\n",
              "      border-left-color: var(--fill-color);\n",
              "      border-top-color: var(--fill-color);\n",
              "      border-right-color: var(--fill-color);\n",
              "    }\n",
              "    40% {\n",
              "      border-color: transparent;\n",
              "      border-right-color: var(--fill-color);\n",
              "      border-top-color: var(--fill-color);\n",
              "    }\n",
              "    60% {\n",
              "      border-color: transparent;\n",
              "      border-right-color: var(--fill-color);\n",
              "    }\n",
              "    80% {\n",
              "      border-color: transparent;\n",
              "      border-right-color: var(--fill-color);\n",
              "      border-bottom-color: var(--fill-color);\n",
              "    }\n",
              "    90% {\n",
              "      border-color: transparent;\n",
              "      border-bottom-color: var(--fill-color);\n",
              "    }\n",
              "  }\n",
              "</style>\n",
              "\n",
              "  <script>\n",
              "    async function quickchart(key) {\n",
              "      const quickchartButtonEl =\n",
              "        document.querySelector('#' + key + ' button');\n",
              "      quickchartButtonEl.disabled = true;  // To prevent multiple clicks.\n",
              "      quickchartButtonEl.classList.add('colab-df-spinner');\n",
              "      try {\n",
              "        const charts = await google.colab.kernel.invokeFunction(\n",
              "            'suggestCharts', [key], {});\n",
              "      } catch (error) {\n",
              "        console.error('Error during call to suggestCharts:', error);\n",
              "      }\n",
              "      quickchartButtonEl.classList.remove('colab-df-spinner');\n",
              "      quickchartButtonEl.classList.add('colab-df-quickchart-complete');\n",
              "    }\n",
              "    (() => {\n",
              "      let quickchartButtonEl =\n",
              "        document.querySelector('#df-17109928-4a9c-403d-ac6c-25f6299995b4 button');\n",
              "      quickchartButtonEl.style.display =\n",
              "        google.colab.kernel.accessAllowed ? 'block' : 'none';\n",
              "    })();\n",
              "  </script>\n",
              "</div>\n",
              "    </div>\n",
              "  </div>\n"
            ],
            "application/vnd.google.colaboratory.intrinsic+json": {
              "type": "dataframe",
              "repr_error": "cannot insert month, already exists"
            }
          },
          "metadata": {},
          "execution_count": 37
        }
      ]
    },
    {
      "cell_type": "markdown",
      "source": [
        "iH6p9SKAHd94ehC"
      ],
      "metadata": {
        "id": "yb1APDtrTnX9"
      }
    }
  ]
}