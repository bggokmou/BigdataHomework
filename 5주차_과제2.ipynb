{
  "nbformat": 4,
  "nbformat_minor": 0,
  "metadata": {
    "colab": {
      "provenance": [],
      "authorship_tag": "ABX9TyNhPd/BS/WdMom58mJKe+MG",
      "include_colab_link": true
    },
    "kernelspec": {
      "name": "python3",
      "display_name": "Python 3"
    },
    "language_info": {
      "name": "python"
    }
  },
  "cells": [
    {
      "cell_type": "markdown",
      "metadata": {
        "id": "view-in-github",
        "colab_type": "text"
      },
      "source": [
        "<a href=\"https://colab.research.google.com/github/bggokmou/BigdataHomework/blob/master/5%EC%A3%BC%EC%B0%A8_%EA%B3%BC%EC%A0%9C2.ipynb\" target=\"_parent\"><img src=\"https://colab.research.google.com/assets/colab-badge.svg\" alt=\"Open In Colab\"/></a>"
      ]
    },
    {
      "cell_type": "markdown",
      "source": [
        "# numpy 활용하기 :3 차원배열 만들기\n",
        "\n",
        "# 임의의 3 차열 배열 만들기 코드\n",
        "\n",
        "import numpy as np\n",
        "\n",
        "3차원 배열의 크기를 지정합니다\n",
        "\n",
        "shape = (3, 4, 5)\n",
        "\n",
        "3차원 배열을 생성합니다\n",
        "\n",
        "arr = np.random.randint(0, 10, shape)\n",
        "\n",
        "3차원 배열을 출력합니다\n",
        "\n",
        "print(arr)\n",
        "\n",
        "위의코드를 참조하여\n",
        "\n",
        "1.shape 가 (3, 3, 6) 이고 , 배열 원소가 0~20 사이의 정수 값을 갖도록 임의의 3차원 배열을 만드세요.\n",
        "\n",
        "2.shape 가 (5, 6) 이고 , 배열 원소가 0~100 사이의 정수 값을 갖도록 임의의 2차원 배열을 만드세요.\n",
        "\n",
        "3.github에 과제 ‘ 에 풀이 과정을 올리세요 학습사이트 과제제출에는 github url 만 올리세요.\n"
      ],
      "metadata": {
        "id": "pfK9PvMSE0ve"
      }
    },
    {
      "cell_type": "code",
      "execution_count": 3,
      "metadata": {
        "colab": {
          "base_uri": "https://localhost:8080/"
        },
        "id": "3rxOpIQaEsH5",
        "outputId": "4e3eaecc-cd95-42d7-a8a0-06d87a9ce701"
      },
      "outputs": [
        {
          "output_type": "stream",
          "name": "stdout",
          "text": [
            "[[[ 7 14 18 17 11  1]\n",
            "  [11 13  7  5  8  5]\n",
            "  [17 16  9 16 14 14]]\n",
            "\n",
            " [[ 4  6 13  5  5  0]\n",
            "  [15 12  3 10 18  6]\n",
            "  [17  3  8 19 10  7]]\n",
            "\n",
            " [[ 0  6 19  7 14  0]\n",
            "  [18 15 15 15  3  1]\n",
            "  [ 3 11 18  7  8 10]]]\n"
          ]
        }
      ],
      "source": [
        "import numpy as np\n",
        "\n",
        "shape = (3,3,6)\n",
        "arr = np.random.randint(0,20,shape)\n",
        "print(arr)"
      ]
    },
    {
      "cell_type": "code",
      "source": [
        "shape = (5,6)\n",
        "arr = np.random.randint(0,100,shape)\n",
        "print(arr)"
      ],
      "metadata": {
        "colab": {
          "base_uri": "https://localhost:8080/"
        },
        "id": "Y2kmdJjRGU0C",
        "outputId": "e7651b57-37e0-42d0-cb30-cccc599e8f54"
      },
      "execution_count": 4,
      "outputs": [
        {
          "output_type": "stream",
          "name": "stdout",
          "text": [
            "[[77 39 74 68 77 24]\n",
            " [51 85 10 62 67 44]\n",
            " [60 58  2 79 98 19]\n",
            " [94  9 39 79 66 97]\n",
            " [80 23 95 23 66 33]]\n"
          ]
        }
      ]
    }
  ]
}